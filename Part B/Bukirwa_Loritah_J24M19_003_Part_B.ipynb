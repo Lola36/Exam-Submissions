{
 "cells": [
  {
   "cell_type": "markdown",
   "metadata": {},
   "source": [
    "PART B: [TOTAL 40 MARKS]\n",
    "DATASET 1 DESCRIPTION\n",
    "Use the datasets to answer the following questions;\n",
    "1. Generate a machine learning model suitable for predicting the age of Abalone.\n",
    "[10 MARKS]\n",
    "2. To predict the age of the Abalone species in the testing dataset (i.e. Test.csv).\n",
    "[5 MARKS]"
   ]
  },
  {
   "cell_type": "code",
   "execution_count": 2,
   "metadata": {},
   "outputs": [
    {
     "data": {
      "text/html": [
       "<div>\n",
       "<style scoped>\n",
       "    .dataframe tbody tr th:only-of-type {\n",
       "        vertical-align: middle;\n",
       "    }\n",
       "\n",
       "    .dataframe tbody tr th {\n",
       "        vertical-align: top;\n",
       "    }\n",
       "\n",
       "    .dataframe thead th {\n",
       "        text-align: right;\n",
       "    }\n",
       "</style>\n",
       "<table border=\"1\" class=\"dataframe\">\n",
       "  <thead>\n",
       "    <tr style=\"text-align: right;\">\n",
       "      <th></th>\n",
       "      <th>id</th>\n",
       "      <th>Sex</th>\n",
       "      <th>Length</th>\n",
       "      <th>Diameter</th>\n",
       "      <th>Height</th>\n",
       "      <th>Whole weight</th>\n",
       "      <th>Whole weight.1</th>\n",
       "      <th>Whole weight.2</th>\n",
       "      <th>Shell weight</th>\n",
       "      <th>Rings</th>\n",
       "    </tr>\n",
       "  </thead>\n",
       "  <tbody>\n",
       "    <tr>\n",
       "      <th>0</th>\n",
       "      <td>0</td>\n",
       "      <td>F</td>\n",
       "      <td>0.550</td>\n",
       "      <td>0.430</td>\n",
       "      <td>0.150</td>\n",
       "      <td>0.7715</td>\n",
       "      <td>0.3285</td>\n",
       "      <td>0.1465</td>\n",
       "      <td>0.2400</td>\n",
       "      <td>11</td>\n",
       "    </tr>\n",
       "    <tr>\n",
       "      <th>1</th>\n",
       "      <td>1</td>\n",
       "      <td>F</td>\n",
       "      <td>0.630</td>\n",
       "      <td>0.490</td>\n",
       "      <td>0.145</td>\n",
       "      <td>1.1300</td>\n",
       "      <td>0.4580</td>\n",
       "      <td>0.2765</td>\n",
       "      <td>0.3200</td>\n",
       "      <td>11</td>\n",
       "    </tr>\n",
       "    <tr>\n",
       "      <th>2</th>\n",
       "      <td>2</td>\n",
       "      <td>I</td>\n",
       "      <td>0.160</td>\n",
       "      <td>0.110</td>\n",
       "      <td>0.025</td>\n",
       "      <td>0.0210</td>\n",
       "      <td>0.0055</td>\n",
       "      <td>0.0030</td>\n",
       "      <td>0.0050</td>\n",
       "      <td>6</td>\n",
       "    </tr>\n",
       "    <tr>\n",
       "      <th>3</th>\n",
       "      <td>3</td>\n",
       "      <td>M</td>\n",
       "      <td>0.595</td>\n",
       "      <td>0.475</td>\n",
       "      <td>0.150</td>\n",
       "      <td>0.9145</td>\n",
       "      <td>0.3755</td>\n",
       "      <td>0.2055</td>\n",
       "      <td>0.2500</td>\n",
       "      <td>10</td>\n",
       "    </tr>\n",
       "    <tr>\n",
       "      <th>4</th>\n",
       "      <td>4</td>\n",
       "      <td>I</td>\n",
       "      <td>0.555</td>\n",
       "      <td>0.425</td>\n",
       "      <td>0.130</td>\n",
       "      <td>0.7820</td>\n",
       "      <td>0.3695</td>\n",
       "      <td>0.1600</td>\n",
       "      <td>0.1975</td>\n",
       "      <td>9</td>\n",
       "    </tr>\n",
       "  </tbody>\n",
       "</table>\n",
       "</div>"
      ],
      "text/plain": [
       "   id Sex  Length  Diameter  Height  Whole weight  Whole weight.1  \\\n",
       "0   0   F   0.550     0.430   0.150        0.7715          0.3285   \n",
       "1   1   F   0.630     0.490   0.145        1.1300          0.4580   \n",
       "2   2   I   0.160     0.110   0.025        0.0210          0.0055   \n",
       "3   3   M   0.595     0.475   0.150        0.9145          0.3755   \n",
       "4   4   I   0.555     0.425   0.130        0.7820          0.3695   \n",
       "\n",
       "   Whole weight.2  Shell weight  Rings  \n",
       "0          0.1465        0.2400     11  \n",
       "1          0.2765        0.3200     11  \n",
       "2          0.0030        0.0050      6  \n",
       "3          0.2055        0.2500     10  \n",
       "4          0.1600        0.1975      9  "
      ]
     },
     "execution_count": 2,
     "metadata": {},
     "output_type": "execute_result"
    }
   ],
   "source": [
    "#Question 1\n",
    "#suppress warnings\n",
    "import warnings\n",
    "warnings.filterwarnings(\"ignore\")  \n",
    "\n",
    "import numpy as np\n",
    "import pandas as pd\n",
    "import matplotlib.pyplot as plt\n",
    "import seaborn as sns\n",
    "\n",
    "#import training and testing data\n",
    "train_age = pd.read_csv(\"C:/Users/Admin/OneDrive - MOGAS Kenya LIMITED/personal/UCU/Year 2/Sem 1/Data Mining, Modelling and Analytics/DSS8307 Exam Instructions amp Datasets-20250226/Bukirwa Loritah_Exam_J24M19_003/Part B/Part B_Dataset/Train.csv\")\n",
    "test_age = pd.read_csv(\"C:/Users/Admin/OneDrive - MOGAS Kenya LIMITED/personal/UCU/Year 2/Sem 1/Data Mining, Modelling and Analytics/DSS8307 Exam Instructions amp Datasets-20250226/Bukirwa Loritah_Exam_J24M19_003/Part B/Part B_Dataset/Test.csv\")\n",
    "\n",
    "#display the first 5 rows of the training and testing data\n",
    "train_age.head(5)\n"
   ]
  },
  {
   "cell_type": "code",
   "execution_count": 3,
   "metadata": {},
   "outputs": [
    {
     "data": {
      "text/html": [
       "<div>\n",
       "<style scoped>\n",
       "    .dataframe tbody tr th:only-of-type {\n",
       "        vertical-align: middle;\n",
       "    }\n",
       "\n",
       "    .dataframe tbody tr th {\n",
       "        vertical-align: top;\n",
       "    }\n",
       "\n",
       "    .dataframe thead th {\n",
       "        text-align: right;\n",
       "    }\n",
       "</style>\n",
       "<table border=\"1\" class=\"dataframe\">\n",
       "  <thead>\n",
       "    <tr style=\"text-align: right;\">\n",
       "      <th></th>\n",
       "      <th>id</th>\n",
       "      <th>Sex</th>\n",
       "      <th>Length</th>\n",
       "      <th>Diameter</th>\n",
       "      <th>Height</th>\n",
       "      <th>Whole weight</th>\n",
       "      <th>Whole weight.1</th>\n",
       "      <th>Whole weight.2</th>\n",
       "      <th>Shell weight</th>\n",
       "    </tr>\n",
       "  </thead>\n",
       "  <tbody>\n",
       "    <tr>\n",
       "      <th>0</th>\n",
       "      <td>90615</td>\n",
       "      <td>M</td>\n",
       "      <td>0.645</td>\n",
       "      <td>0.475</td>\n",
       "      <td>0.155</td>\n",
       "      <td>1.2380</td>\n",
       "      <td>0.6185</td>\n",
       "      <td>0.3125</td>\n",
       "      <td>0.3005</td>\n",
       "    </tr>\n",
       "    <tr>\n",
       "      <th>1</th>\n",
       "      <td>90616</td>\n",
       "      <td>M</td>\n",
       "      <td>0.580</td>\n",
       "      <td>0.460</td>\n",
       "      <td>0.160</td>\n",
       "      <td>0.9830</td>\n",
       "      <td>0.4785</td>\n",
       "      <td>0.2195</td>\n",
       "      <td>0.2750</td>\n",
       "    </tr>\n",
       "    <tr>\n",
       "      <th>2</th>\n",
       "      <td>90617</td>\n",
       "      <td>M</td>\n",
       "      <td>0.560</td>\n",
       "      <td>0.420</td>\n",
       "      <td>0.140</td>\n",
       "      <td>0.8395</td>\n",
       "      <td>0.3525</td>\n",
       "      <td>0.1845</td>\n",
       "      <td>0.2405</td>\n",
       "    </tr>\n",
       "    <tr>\n",
       "      <th>3</th>\n",
       "      <td>90618</td>\n",
       "      <td>M</td>\n",
       "      <td>0.570</td>\n",
       "      <td>0.490</td>\n",
       "      <td>0.145</td>\n",
       "      <td>0.8740</td>\n",
       "      <td>0.3525</td>\n",
       "      <td>0.1865</td>\n",
       "      <td>0.2350</td>\n",
       "    </tr>\n",
       "    <tr>\n",
       "      <th>4</th>\n",
       "      <td>90619</td>\n",
       "      <td>I</td>\n",
       "      <td>0.415</td>\n",
       "      <td>0.325</td>\n",
       "      <td>0.110</td>\n",
       "      <td>0.3580</td>\n",
       "      <td>0.1575</td>\n",
       "      <td>0.0670</td>\n",
       "      <td>0.1050</td>\n",
       "    </tr>\n",
       "  </tbody>\n",
       "</table>\n",
       "</div>"
      ],
      "text/plain": [
       "      id Sex  Length  Diameter  Height  Whole weight  Whole weight.1  \\\n",
       "0  90615   M   0.645     0.475   0.155        1.2380          0.6185   \n",
       "1  90616   M   0.580     0.460   0.160        0.9830          0.4785   \n",
       "2  90617   M   0.560     0.420   0.140        0.8395          0.3525   \n",
       "3  90618   M   0.570     0.490   0.145        0.8740          0.3525   \n",
       "4  90619   I   0.415     0.325   0.110        0.3580          0.1575   \n",
       "\n",
       "   Whole weight.2  Shell weight  \n",
       "0          0.3125        0.3005  \n",
       "1          0.2195        0.2750  \n",
       "2          0.1845        0.2405  \n",
       "3          0.1865        0.2350  \n",
       "4          0.0670        0.1050  "
      ]
     },
     "execution_count": 3,
     "metadata": {},
     "output_type": "execute_result"
    }
   ],
   "source": [
    "test_age.head(5)"
   ]
  },
  {
   "cell_type": "code",
   "execution_count": 4,
   "metadata": {},
   "outputs": [
    {
     "data": {
      "text/plain": [
       "id                0\n",
       "Sex               0\n",
       "Length            0\n",
       "Diameter          0\n",
       "Height            0\n",
       "Whole weight      0\n",
       "Whole weight.1    0\n",
       "Whole weight.2    0\n",
       "Shell weight      0\n",
       "Rings             0\n",
       "dtype: int64"
      ]
     },
     "execution_count": 4,
     "metadata": {},
     "output_type": "execute_result"
    }
   ],
   "source": [
    "#checking for missing data.\n",
    "train_age.isnull().sum()\n"
   ]
  },
  {
   "cell_type": "code",
   "execution_count": 5,
   "metadata": {},
   "outputs": [
    {
     "name": "stdout",
     "output_type": "stream",
     "text": [
      "<class 'pandas.core.frame.DataFrame'>\n",
      "RangeIndex: 90615 entries, 0 to 90614\n",
      "Data columns (total 10 columns):\n",
      " #   Column          Non-Null Count  Dtype  \n",
      "---  ------          --------------  -----  \n",
      " 0   id              90615 non-null  int64  \n",
      " 1   Sex             90615 non-null  object \n",
      " 2   Length          90615 non-null  float64\n",
      " 3   Diameter        90615 non-null  float64\n",
      " 4   Height          90615 non-null  float64\n",
      " 5   Whole weight    90615 non-null  float64\n",
      " 6   Whole weight.1  90615 non-null  float64\n",
      " 7   Whole weight.2  90615 non-null  float64\n",
      " 8   Shell weight    90615 non-null  float64\n",
      " 9   Rings           90615 non-null  int64  \n",
      "dtypes: float64(7), int64(2), object(1)\n",
      "memory usage: 6.9+ MB\n"
     ]
    },
    {
     "data": {
      "text/plain": [
       "(90615, 10)"
      ]
     },
     "execution_count": 5,
     "metadata": {},
     "output_type": "execute_result"
    }
   ],
   "source": [
    "\n",
    "train_age.info()\n",
    "train_age.shape"
   ]
  },
  {
   "cell_type": "code",
   "execution_count": 6,
   "metadata": {},
   "outputs": [
    {
     "data": {
      "text/plain": [
       "id                0\n",
       "Sex               0\n",
       "Length            0\n",
       "Diameter          0\n",
       "Height            0\n",
       "Whole weight      0\n",
       "Whole weight.1    0\n",
       "Whole weight.2    0\n",
       "Shell weight      0\n",
       "dtype: int64"
      ]
     },
     "execution_count": 6,
     "metadata": {},
     "output_type": "execute_result"
    }
   ],
   "source": [
    "test_age.isnull().sum()"
   ]
  },
  {
   "cell_type": "code",
   "execution_count": 7,
   "metadata": {},
   "outputs": [
    {
     "name": "stdout",
     "output_type": "stream",
     "text": [
      "<class 'pandas.core.frame.DataFrame'>\n",
      "RangeIndex: 60411 entries, 0 to 60410\n",
      "Data columns (total 9 columns):\n",
      " #   Column          Non-Null Count  Dtype  \n",
      "---  ------          --------------  -----  \n",
      " 0   id              60411 non-null  int64  \n",
      " 1   Sex             60411 non-null  object \n",
      " 2   Length          60411 non-null  float64\n",
      " 3   Diameter        60411 non-null  float64\n",
      " 4   Height          60411 non-null  float64\n",
      " 5   Whole weight    60411 non-null  float64\n",
      " 6   Whole weight.1  60411 non-null  float64\n",
      " 7   Whole weight.2  60411 non-null  float64\n",
      " 8   Shell weight    60411 non-null  float64\n",
      "dtypes: float64(7), int64(1), object(1)\n",
      "memory usage: 4.1+ MB\n"
     ]
    },
    {
     "data": {
      "text/plain": [
       "(60411, 9)"
      ]
     },
     "execution_count": 7,
     "metadata": {},
     "output_type": "execute_result"
    }
   ],
   "source": [
    "test_age.info()\n",
    "test_age.shape"
   ]
  },
  {
   "cell_type": "code",
   "execution_count": 8,
   "metadata": {},
   "outputs": [],
   "source": [
    "#prepare the features and target variablei\n",
    "from sklearn.preprocessing import LabelEncoder\n",
    "from sklearn.model_selection import train_test_split\n",
    "\n",
    "#label encoding the categorical variables\n",
    "le = LabelEncoder()\n",
    "train_age['Sex'] = le.fit_transform(train_age['Sex'])\n",
    "test_age['Sex'] = le.fit_transform(test_age['Sex']) #use the same label encoder for the test data\n",
    "\n",
    "#split the data into features and target variable\n",
    "X = train_age.drop(columns=['Rings']) #all columns except 'Rings'\n",
    "y = train_age['Rings'] #target variable\n",
    "\n",
    "#split the data into training and testing data\n",
    "X_train, X_val, y_train, y_val = train_test_split(X, y, test_size=0.2, random_state=42)"
   ]
  },
  {
   "cell_type": "code",
   "execution_count": 9,
   "metadata": {},
   "outputs": [
    {
     "name": "stdout",
     "output_type": "stream",
     "text": [
      "\n",
      " Model Training Complete\n"
     ]
    }
   ],
   "source": [
    "#train the model\n",
    "from sklearn.ensemble import RandomForestRegressor\n",
    "\n",
    "model = RandomForestRegressor(n_estimators=100, random_state=42)\n",
    "model.fit(X_train, y_train)\n",
    "\n",
    "print(\"\\n Model Training Complete\")"
   ]
  },
  {
   "cell_type": "code",
   "execution_count": 10,
   "metadata": {},
   "outputs": [
    {
     "name": "stdout",
     "output_type": "stream",
     "text": [
      "\n",
      "Model Performance on Validation Set:\n",
      " R² Score: 0.6474\n",
      " MAE: 1.29\n",
      " RMSE: 1.90\n"
     ]
    }
   ],
   "source": [
    "#evaluate the model\n",
    "from sklearn.metrics import mean_squared_error, r2_score, mean_absolute_error\n",
    "\n",
    "#predict the target variable\n",
    "y_pred = model.predict(X_val)\n",
    "\n",
    "#calculating the evaluation metrics\n",
    "r2 = r2_score(y_val, y_pred)\n",
    "mae = mean_absolute_error(y_val, y_pred) #mean absolute error\n",
    "rmse = np.sqrt(mean_squared_error(y_val, y_pred)) #root mean squared error\n",
    "\n",
    "#display the model performance\n",
    "print(f\"\\nModel Performance on Validation Set:\\n R² Score: {r2:.4f}\\n MAE: {mae:.2f}\\n RMSE: {rmse:.2f}\")\n"
   ]
  },
  {
   "cell_type": "markdown",
   "metadata": {},
   "source": [
    "The model achieves moderate predictive accuracy in estimating abalone age (via the Rings target), as evidenced by an R² score of 0.6474, indicating that 64.74% of the variability in ring counts is explained by the model. Predictions exhibit an average error of 1.29 rings (MAE) and a penalized error of 1.90 rings (RMSE), reflecting reasonable but imperfect precision. "
   ]
  },
  {
   "cell_type": "code",
   "execution_count": 11,
   "metadata": {},
   "outputs": [
    {
     "name": "stdout",
     "output_type": "stream",
     "text": [
      "Index(['id', 'Sex', 'Length', 'Diameter', 'Height', 'Whole weight',\n",
      "       'Whole weight.1', 'Whole weight.2', 'Shell weight', 'Rings'],\n",
      "      dtype='object')\n"
     ]
    }
   ],
   "source": [
    "print(train_age.columns)  # Print all columns in train dataset\n"
   ]
  },
  {
   "cell_type": "code",
   "execution_count": 12,
   "metadata": {},
   "outputs": [
    {
     "name": "stdout",
     "output_type": "stream",
     "text": [
      "\n",
      " Predictions saved as Abalone_Predictions.csv\n"
     ]
    }
   ],
   "source": [
    "#Question 2.\n",
    "#predict the target variable for the test data\n",
    "#checking to see if the data is the same as the training data\n",
    "X_val = test_age.drop(columns=['Rings'], errors='ignore') #all columns except 'Rings'\n",
    "\n",
    "#predict rings\n",
    "test_age[\"Predicted_Rings\"] = model.predict(X_val)\n",
    "\n",
    "#save predictions\n",
    "test_age[[\"Predicted_Rings\"]].to_csv(\"Abalone_Age_Predictions.csv\", index=False)\n",
    "\n",
    "print(\"\\n Predictions saved as Abalone_Predictions.csv\")\n"
   ]
  },
  {
   "cell_type": "code",
   "execution_count": 13,
   "metadata": {},
   "outputs": [
    {
     "data": {
      "text/html": [
       "<div>\n",
       "<style scoped>\n",
       "    .dataframe tbody tr th:only-of-type {\n",
       "        vertical-align: middle;\n",
       "    }\n",
       "\n",
       "    .dataframe tbody tr th {\n",
       "        vertical-align: top;\n",
       "    }\n",
       "\n",
       "    .dataframe thead th {\n",
       "        text-align: right;\n",
       "    }\n",
       "</style>\n",
       "<table border=\"1\" class=\"dataframe\">\n",
       "  <thead>\n",
       "    <tr style=\"text-align: right;\">\n",
       "      <th></th>\n",
       "      <th>Predicted_Rings</th>\n",
       "    </tr>\n",
       "  </thead>\n",
       "  <tbody>\n",
       "    <tr>\n",
       "      <th>0</th>\n",
       "      <td>10.18</td>\n",
       "    </tr>\n",
       "    <tr>\n",
       "      <th>1</th>\n",
       "      <td>10.23</td>\n",
       "    </tr>\n",
       "    <tr>\n",
       "      <th>2</th>\n",
       "      <td>11.82</td>\n",
       "    </tr>\n",
       "    <tr>\n",
       "      <th>3</th>\n",
       "      <td>12.05</td>\n",
       "    </tr>\n",
       "    <tr>\n",
       "      <th>4</th>\n",
       "      <td>9.36</td>\n",
       "    </tr>\n",
       "  </tbody>\n",
       "</table>\n",
       "</div>"
      ],
      "text/plain": [
       "   Predicted_Rings\n",
       "0            10.18\n",
       "1            10.23\n",
       "2            11.82\n",
       "3            12.05\n",
       "4             9.36"
      ]
     },
     "execution_count": 13,
     "metadata": {},
     "output_type": "execute_result"
    }
   ],
   "source": [
    "predictions = pd.read_csv(\"Abalone_Age_Predictions.csv\")\n",
    "predictions.head(5)"
   ]
  },
  {
   "cell_type": "markdown",
   "metadata": {},
   "source": [
    "DATASET 2 DESCRIPTION\n",
    "\n",
    "The PatientReviews.csv dataset contains the patients’ medical visits with timelogs at a public healthcare centre.\n",
    "\n",
    "Use the dataset to answer the following questions;\n",
    "\n",
    "3. Generate the event logs for the above dataset and save them as Question 2. [10 MARKS]\n",
    "\n",
    "4. Generate a visual showing “actions” undertaken at the hospital between January 2017 and June 2017. [10 MARKS]\n",
    "\n",
    "5. Using appropriate process mining algorithms, show the flow of “actions” undertaken at\n",
    "the hospital."
   ]
  },
  {
   "cell_type": "code",
   "execution_count": 14,
   "metadata": {},
   "outputs": [
    {
     "data": {
      "text/html": [
       "<div>\n",
       "<style scoped>\n",
       "    .dataframe tbody tr th:only-of-type {\n",
       "        vertical-align: middle;\n",
       "    }\n",
       "\n",
       "    .dataframe tbody tr th {\n",
       "        vertical-align: top;\n",
       "    }\n",
       "\n",
       "    .dataframe thead th {\n",
       "        text-align: right;\n",
       "    }\n",
       "</style>\n",
       "<table border=\"1\" class=\"dataframe\">\n",
       "  <thead>\n",
       "    <tr style=\"text-align: right;\">\n",
       "      <th></th>\n",
       "      <th>patient</th>\n",
       "      <th>action</th>\n",
       "      <th>org:resource</th>\n",
       "      <th>DateTime</th>\n",
       "    </tr>\n",
       "  </thead>\n",
       "  <tbody>\n",
       "    <tr>\n",
       "      <th>0</th>\n",
       "      <td>patient 0</td>\n",
       "      <td>First consult</td>\n",
       "      <td>Dr. Anna</td>\n",
       "      <td>2017-01-02 11:40:11</td>\n",
       "    </tr>\n",
       "    <tr>\n",
       "      <th>1</th>\n",
       "      <td>patient 0</td>\n",
       "      <td>Blood test</td>\n",
       "      <td>Lab</td>\n",
       "      <td>2017-01-02 12:47:33</td>\n",
       "    </tr>\n",
       "    <tr>\n",
       "      <th>2</th>\n",
       "      <td>patient 0</td>\n",
       "      <td>Physical test</td>\n",
       "      <td>Nurse Jesse</td>\n",
       "      <td>2017-01-02 12:53:50</td>\n",
       "    </tr>\n",
       "    <tr>\n",
       "      <th>3</th>\n",
       "      <td>patient 0</td>\n",
       "      <td>Second consult</td>\n",
       "      <td>Dr. Anna</td>\n",
       "      <td>2017-01-02 16:21:06</td>\n",
       "    </tr>\n",
       "    <tr>\n",
       "      <th>4</th>\n",
       "      <td>patient 0</td>\n",
       "      <td>Surgery</td>\n",
       "      <td>Dr. Charlie</td>\n",
       "      <td>2017-01-05 13:23:09</td>\n",
       "    </tr>\n",
       "  </tbody>\n",
       "</table>\n",
       "</div>"
      ],
      "text/plain": [
       "     patient           action  org:resource              DateTime\n",
       "0  patient 0    First consult      Dr. Anna   2017-01-02 11:40:11\n",
       "1  patient 0       Blood test           Lab   2017-01-02 12:47:33\n",
       "2  patient 0    Physical test   Nurse Jesse   2017-01-02 12:53:50\n",
       "3  patient 0   Second consult      Dr. Anna   2017-01-02 16:21:06\n",
       "4  patient 0          Surgery   Dr. Charlie   2017-01-05 13:23:09"
      ]
     },
     "execution_count": 14,
     "metadata": {},
     "output_type": "execute_result"
    }
   ],
   "source": [
    "#Question 3\n",
    "#load the data\n",
    "pat = pd.read_csv(\"C:/Users/Admin/OneDrive - MOGAS Kenya LIMITED/personal/UCU/Year 2/Sem 1/Data Mining, Modelling and Analytics/DSS8307 Exam Instructions amp Datasets-20250226/Bukirwa Loritah_Exam_J24M19_003/Part B/Part B_Dataset/PatientReviews.csv\")\n",
    "pat.head(5) #display the first 5 rows of the data"
   ]
  },
  {
   "cell_type": "code",
   "execution_count": 15,
   "metadata": {},
   "outputs": [
    {
     "data": {
      "text/plain": [
       "patient          0\n",
       " action          0\n",
       " org:resource    0\n",
       " DateTime        0\n",
       "dtype: int64"
      ]
     },
     "execution_count": 15,
     "metadata": {},
     "output_type": "execute_result"
    }
   ],
   "source": [
    "pat.isnull().sum() #checking for missing data"
   ]
  },
  {
   "cell_type": "code",
   "execution_count": 16,
   "metadata": {},
   "outputs": [
    {
     "name": "stdout",
     "output_type": "stream",
     "text": [
      "<class 'pandas.core.frame.DataFrame'>\n",
      "RangeIndex: 690 entries, 0 to 689\n",
      "Data columns (total 4 columns):\n",
      " #   Column         Non-Null Count  Dtype \n",
      "---  ------         --------------  ----- \n",
      " 0   patient        690 non-null    object\n",
      " 1    action        690 non-null    object\n",
      " 2    org:resource  690 non-null    object\n",
      " 3    DateTime      690 non-null    object\n",
      "dtypes: object(4)\n",
      "memory usage: 21.7+ KB\n"
     ]
    },
    {
     "data": {
      "text/plain": [
       "(690, 4)"
      ]
     },
     "execution_count": 16,
     "metadata": {},
     "output_type": "execute_result"
    }
   ],
   "source": [
    "pat.info() #checking the data types of the columns\n",
    "pat.shape #checking the shape of the data"
   ]
  },
  {
   "cell_type": "code",
   "execution_count": 17,
   "metadata": {},
   "outputs": [
    {
     "name": "stdout",
     "output_type": "stream",
     "text": [
      "Requirement already satisfied: pm4py in c:\\users\\admin\\appdata\\local\\programs\\python\\python312\\lib\\site-packages (2.7.13.1)\n",
      "Requirement already satisfied: numpy in c:\\users\\admin\\appdata\\local\\programs\\python\\python312\\lib\\site-packages (from pm4py) (2.0.2)\n",
      "Requirement already satisfied: pandas in c:\\users\\admin\\appdata\\local\\programs\\python\\python312\\lib\\site-packages (from pm4py) (2.2.3)\n",
      "Requirement already satisfied: deprecation in c:\\users\\admin\\appdata\\local\\programs\\python\\python312\\lib\\site-packages (from pm4py) (2.1.0)\n",
      "Requirement already satisfied: networkx in c:\\users\\admin\\appdata\\local\\programs\\python\\python312\\lib\\site-packages (from pm4py) (3.4.2)\n",
      "Requirement already satisfied: graphviz in c:\\users\\admin\\appdata\\local\\programs\\python\\python312\\lib\\site-packages (from pm4py) (0.20.3)\n",
      "Requirement already satisfied: wheel in c:\\users\\admin\\appdata\\local\\programs\\python\\python312\\lib\\site-packages (from pm4py) (0.45.1)\n",
      "Requirement already satisfied: setuptools in c:\\users\\admin\\appdata\\local\\programs\\python\\python312\\lib\\site-packages (from pm4py) (75.8.2)\n",
      "Requirement already satisfied: intervaltree in c:\\users\\admin\\appdata\\local\\programs\\python\\python312\\lib\\site-packages (from pm4py) (3.1.0)\n",
      "Requirement already satisfied: lxml in c:\\users\\admin\\appdata\\local\\programs\\python\\python312\\lib\\site-packages (from pm4py) (5.3.1)\n",
      "Requirement already satisfied: matplotlib in c:\\users\\admin\\appdata\\local\\programs\\python\\python312\\lib\\site-packages (from pm4py) (3.10.1)\n",
      "Requirement already satisfied: pydotplus in c:\\users\\admin\\appdata\\local\\programs\\python\\python312\\lib\\site-packages (from pm4py) (2.0.2)\n",
      "Requirement already satisfied: pytz in c:\\users\\admin\\appdata\\local\\programs\\python\\python312\\lib\\site-packages (from pm4py) (2025.1)\n",
      "Requirement already satisfied: scipy in c:\\users\\admin\\appdata\\local\\programs\\python\\python312\\lib\\site-packages (from pm4py) (1.15.2)\n",
      "Requirement already satisfied: tqdm in c:\\users\\admin\\appdata\\local\\programs\\python\\python312\\lib\\site-packages (from pm4py) (4.67.1)\n",
      "Requirement already satisfied: cvxopt in c:\\users\\admin\\appdata\\local\\programs\\python\\python312\\lib\\site-packages (from pm4py) (1.3.2)\n",
      "Requirement already satisfied: packaging in c:\\users\\admin\\appdata\\roaming\\python\\python312\\site-packages (from deprecation->pm4py) (24.2)\n",
      "Requirement already satisfied: sortedcontainers<3.0,>=2.0 in c:\\users\\admin\\appdata\\local\\programs\\python\\python312\\lib\\site-packages (from intervaltree->pm4py) (2.4.0)\n",
      "Requirement already satisfied: contourpy>=1.0.1 in c:\\users\\admin\\appdata\\local\\programs\\python\\python312\\lib\\site-packages (from matplotlib->pm4py) (1.3.1)\n",
      "Requirement already satisfied: cycler>=0.10 in c:\\users\\admin\\appdata\\local\\programs\\python\\python312\\lib\\site-packages (from matplotlib->pm4py) (0.12.1)\n",
      "Requirement already satisfied: fonttools>=4.22.0 in c:\\users\\admin\\appdata\\local\\programs\\python\\python312\\lib\\site-packages (from matplotlib->pm4py) (4.56.0)\n",
      "Requirement already satisfied: kiwisolver>=1.3.1 in c:\\users\\admin\\appdata\\local\\programs\\python\\python312\\lib\\site-packages (from matplotlib->pm4py) (1.4.8)\n",
      "Requirement already satisfied: pillow>=8 in c:\\users\\admin\\appdata\\local\\programs\\python\\python312\\lib\\site-packages (from matplotlib->pm4py) (11.1.0)\n",
      "Requirement already satisfied: pyparsing>=2.3.1 in c:\\users\\admin\\appdata\\local\\programs\\python\\python312\\lib\\site-packages (from matplotlib->pm4py) (3.2.1)\n",
      "Requirement already satisfied: python-dateutil>=2.7 in c:\\users\\admin\\appdata\\roaming\\python\\python312\\site-packages (from matplotlib->pm4py) (2.9.0.post0)\n",
      "Requirement already satisfied: tzdata>=2022.7 in c:\\users\\admin\\appdata\\local\\programs\\python\\python312\\lib\\site-packages (from pandas->pm4py) (2025.1)\n",
      "Requirement already satisfied: colorama in c:\\users\\admin\\appdata\\roaming\\python\\python312\\site-packages (from tqdm->pm4py) (0.4.6)\n",
      "Requirement already satisfied: six>=1.5 in c:\\users\\admin\\appdata\\roaming\\python\\python312\\site-packages (from python-dateutil>=2.7->matplotlib->pm4py) (1.17.0)\n"
     ]
    }
   ],
   "source": [
    "#installing the pm4py library for process mining\n",
    "!pip install pm4py "
   ]
  },
  {
   "cell_type": "code",
   "execution_count": 18,
   "metadata": {},
   "outputs": [
    {
     "data": {
      "text/plain": [
       "Index(['patient', ' action', ' org:resource', ' DateTime'], dtype='object')"
      ]
     },
     "execution_count": 18,
     "metadata": {},
     "output_type": "execute_result"
    }
   ],
   "source": [
    "pat.columns"
   ]
  },
  {
   "cell_type": "code",
   "execution_count": 19,
   "metadata": {},
   "outputs": [
    {
     "name": "stdout",
     "output_type": "stream",
     "text": [
      "Column names BEFORE cleaning: Index(['patient', ' action', ' org:resource', ' DateTime'], dtype='object')\n",
      "Column names AFTER cleaning: Index(['patient', 'action', 'org:resource', 'DateTime'], dtype='object')\n"
     ]
    },
    {
     "name": "stderr",
     "output_type": "stream",
     "text": [
      "exporting log, completed traces :: 100%|██████████| 100/100 [00:00<00:00, 3145.59it/s]"
     ]
    },
    {
     "name": "stdout",
     "output_type": "stream",
     "text": [
      "\n",
      " Event Log saved to Question2.xes\n"
     ]
    },
    {
     "name": "stderr",
     "output_type": "stream",
     "text": [
      "\n"
     ]
    }
   ],
   "source": [
    "import pm4py\n",
    "\n",
    "# Load dataset\n",
    "file_path = \"C:/Users/Admin/OneDrive - MOGAS Kenya LIMITED/personal/UCU/Year 2/Sem 1/Data Mining, Modelling and Analytics/DSS8307 Exam Instructions amp Datasets-20250226/Bukirwa Loritah_Exam_J24M19_003/Part B/Part B_Dataset/PatientReviews.csv\"\n",
    "log2_csv = pd.read_csv(file_path)\n",
    "\n",
    "# Print original column names (for debugging)\n",
    "print(\"Column names BEFORE cleaning:\", log2_csv.columns)\n",
    "\n",
    "# Remove spaces from column names\n",
    "log2_csv.columns = log2_csv.columns.str.strip()\n",
    "\n",
    "# Print cleaned column names (for debugging)\n",
    "print(\"Column names AFTER cleaning:\", log2_csv.columns)\n",
    "\n",
    "#Convert \"DateTime\" to datetime format\n",
    "log2_csv[\"DateTime\"] = pd.to_datetime(log2_csv[\"DateTime\"], errors=\"coerce\")\n",
    "\n",
    "# Rename columns correctly\n",
    "log2_csv.rename(columns={\n",
    "    \"patient\": \"case:concept:name\", \n",
    "    \"action\": \"concept:name\", \n",
    "    \"org:resource\": \"org:resource\", \n",
    "    \"DateTime\": \"time:timestamp\"\n",
    "}, inplace=True)\n",
    "\n",
    "# Ensure \"time:timestamp\" is in datetime format\n",
    "assert pd.api.types.is_datetime64_any_dtype(log2_csv[\"time:timestamp\"]), \"❌ 'time:timestamp' is not in datetime format!\"\n",
    "\n",
    "# Reorder columns for process mining\n",
    "log2_csv = log2_csv[[\"case:concept:name\", \"concept:name\", \"org:resource\", \"time:timestamp\"]]\n",
    "\n",
    "#Save as XES file (standard event log format)\n",
    "xes_file_path = \"Question2.xes\"\n",
    "pm4py.write_xes(log2_csv, xes_file_path)\n",
    "\n",
    "print(f\"\\n Event Log saved to {xes_file_path}\")\n"
   ]
  },
  {
   "cell_type": "code",
   "execution_count": 20,
   "metadata": {},
   "outputs": [
    {
     "data": {
      "image/png": "[encoded data removed]",
      "text/plain": [
       "<Figure size 1500x700 with 1 Axes>"
      ]
     },
     "metadata": {},
     "output_type": "display_data"
    }
   ],
   "source": [
    "#Question 4. Generating visuals showing actions undertaken at the hospital\n",
    "import matplotlib.dates as mdates\n",
    "\n",
    "#filter data between January 2017 and June 2017\n",
    "start_date = \"2017-01-01\"\n",
    "end_date = \"2017-06-30\" \n",
    "filtered_data = log2_csv[(log2_csv[\"time:timestamp\"] >= start_date) & (log2_csv[\"time:timestamp\"] <= end_date)]\n",
    "\n",
    "#Group by date and action, then count the number of actions per day\n",
    "action_counts = filtered_data.groupby([filtered_data[\"time:timestamp\"].dt.date, \"concept:name\"]).size().unstack().fillna(0)\n",
    "\n",
    "#plot the data\n",
    "fig, ax = plt.subplots(figsize=(15, 7))\n",
    "action_counts.plot(kind=\"bar\", stacked=True, ax=ax)\n",
    "\n",
    "#set labels and title\n",
    "ax.set_xlabel(\"Date\")\n",
    "ax.set_ylabel(\"Number of Actions\")\n",
    "ax.set_title(\"Number of Actions Undertaken at the Hospital (Jan-Jun 2017)\") \n",
    "ax.legend(title=\"Action\", bbox_to_anchor=(1.05, 1), loc='upper left')\n",
    "plt.xticks(rotation=90)\n",
    "plt.tight_layout()  # Adjust layout to make room for the rotated x-axis labels\n",
    "plt.show()\n"
   ]
  },
  {
   "cell_type": "code",
   "execution_count": null,
   "metadata": {},
   "outputs": [
    {
     "data": {
      "image/png": "[encoded data removed]",
      "text/plain": [
       "<IPython.core.display.Image object>"
      ]
     },
     "metadata": {},
     "output_type": "display_data"
    }
   ],
   "source": [
    "#Question 5. Visualizing the most common actions undertaken by each department\n",
    "from pm4py.objects.conversion.log import converter as log_converter\n",
    "from pm4py.visualization.dfg import visualizer as dfg_visualizer\n",
    "\n",
    "#convert  data to event log#\n",
    "event_log = log_converter.apply(log2_csv, variant=log_converter.Variants.TO_EVENT_LOG)\n",
    "\n",
    "#discover the direct-follows graph\n",
    "dfg, start_activities, end_activities = pm4py.discover_dfg(event_log)\n",
    "activities_count = pm4py.get_event_attribute_values(event_log, \"concept:name\")\n",
    "\n",
    "#visualize DFG graph With frequencies\n",
    "gviz = dfg_visualizer.apply(\n",
    "    dfg, \n",
    "    log=event_log, \n",
    "    variant=dfg_visualizer.Variants.FREQUENCY, #use enum instead of string\n",
    "    parameters={\n",
    "        \"activities_count\": activities_count,\n",
    "        \"format\": \"png\"\n",
    "    }\n",
    ")\n",
    "\n",
    "dfg_visualizer.view(gviz)#display the graph\n",
    "\n"
   ]
  },
  {
   "cell_type": "markdown",
   "metadata": {},
   "source": [
    "From the above, the process is seen as follows\n",
    "\n",
    "1. First consult → Leads to medical tests (Blood test, Physical test, X-ray scan).\n",
    "\n",
    "2. After tests → Patients return for a Second consult.\n",
    "\n",
    "3. Treatment phase:\n",
    "\n",
    "    i) Most get Medicine (80 cases).\n",
    "\n",
    "    ii) Some need Surgery (20 cases).\n",
    "\n",
    "4. Final consult → The process ends."
   ]
  }
 ],
 "metadata": {
  "kernelspec": {
   "display_name": "Python 3",
   "language": "python",
   "name": "python3"
  },
  "language_info": {
   "codemirror_mode": {
    "name": "ipython",
    "version": 3
   },
   "file_extension": ".py",
   "mimetype": "text/x-python",
   "name": "python",
   "nbconvert_exporter": "python",
   "pygments_lexer": "ipython3",
   "version": "3.12.2"
  }
 },
 "nbformat": 4,
 "nbformat_minor": 2
}
