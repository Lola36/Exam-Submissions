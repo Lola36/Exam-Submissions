{
 "cells": [
  {
   "cell_type": "code",
   "execution_count": null,
   "metadata": {},
   "outputs": [],
   "source": [
    "#import the necessary libraries\n",
    "import requests\n",
    "from bs4 import BeautifulSoup\n",
    "import csv\n",
    "import time\n",
    "import pandas as pd\n",
    "\n",
    "#define headers to mimic a browser visit\n",
    "headers = {'User-Agent': 'Mozilla/5.0(Windows NT 10.0; Win64; x64) AppleWebKit/537.36 (KHTML, like Gecko) Chrome/58.0.3029.110 Safari/537.3'\n",
    "}\n",
    "\n",
    "#specify the url\n",
    "url = 'https://wheeloffortuneanswer.com/'\n",
    "\n",
    "#send a get request to the url\n",
    "response = requests.get(url, headers=headers)\n",
    "\n",
    "# Checking if request was successful\n",
    "if response.status_code == 200:\n",
    "    soup = BeautifulSoup(response.text, 'html.parser')\n",
    "else:\n",
    "    print(f\"Request failed with status code: {response.status_code}\") #print an error message if request was not successful\n",
    "    exit() #exit the program if request was not successful\n",
    "\n",
    "#finding the table in the html\n",
    "table = soup.find('table')\n",
    "\n",
    "headers_row = table.find('tr') #extract the header row from the table\n",
    "headers = [th.text.strip() for th in headers_row.find_all('th')] #get the header names from the header row\n",
    "\n",
    "#extract the rows from the table\n",
    "rows = []\n",
    "for row in table.find_all('tr')[1:]:#skip the first row because it is the header row\n",
    "    cells = row.find_all('td') #extract the cells in the row\n",
    "    row_data = [cell.text.strip() for cell in cells] #extract the text from the cells\n",
    "    rows.append(row_data) #append the row data to the rows list\n",
    "\n",
    "#creating a datafreame for the extracted data\n",
    "puzzles = pd.DataFrame(rows, columns=headers)\n",
    "\n",
    "#saving the data to a csv file\n",
    "csv_file = 'Bukirwa.csv'\n",
    "puzzles.to_csv(csv_file, index=False)\n",
    "print(f\"Data saved to {csv_file}\")\n",
    "\n",
    "#display the data\n",
    "print(puzzles.head(5)) #the first 5 rows of the data"
   ]
  }
 ],
 "metadata": {
  "kernelspec": {
   "display_name": "Python 3",
   "language": "python",
   "name": "python3"
  },
  "language_info": {
   "codemirror_mode": {
    "name": "ipython",
    "version": 3
   },
   "file_extension": ".py",
   "mimetype": "text/x-python",
   "name": "python",
   "nbconvert_exporter": "python",
   "pygments_lexer": "ipython3",
   "version": "3.12.2"
  }
 },
 "nbformat": 4,
 "nbformat_minor": 2
}
